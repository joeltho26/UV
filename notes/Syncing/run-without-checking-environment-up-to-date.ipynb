{
 "cells": [
  {
   "cell_type": "markdown",
   "id": "644b21a4",
   "metadata": {},
   "source": [
    "### Running command without checking if environment is up-to-date:\n",
    "\n",
    "```uv run --no-sync```"
   ]
  }
 ],
 "metadata": {
  "language_info": {
   "name": "python"
  }
 },
 "nbformat": 4,
 "nbformat_minor": 5
}
