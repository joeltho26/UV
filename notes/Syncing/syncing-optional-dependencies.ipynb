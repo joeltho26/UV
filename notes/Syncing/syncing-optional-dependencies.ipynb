{
 "cells": [
  {
   "cell_type": "markdown",
   "id": "735198e2",
   "metadata": {},
   "source": [
    "### To Sync optional dependencies:\n",
    "\n",
    "```uv sync --extra foo```\n",
    "\n",
    "\n",
    "to enable all extras, use the ```--all-extras```\n",
    "\n",
    "- ```uv sync --all-extras```"
   ]
  },
  {
   "cell_type": "markdown",
   "id": "5c4e5eb3",
   "metadata": {},
   "source": []
  }
 ],
 "metadata": {
  "language_info": {
   "name": "python"
  }
 },
 "nbformat": 4,
 "nbformat_minor": 5
}
