{
 "cells": [
  {
   "cell_type": "markdown",
   "id": "c8e25f09",
   "metadata": {},
   "source": [
    "### Syncing environment explicitly:\n",
    "\n",
    "```uv sync```\n",
    "\n",
    "Note:\n",
    "- syncing is \"exact\" by default, which means it will remove any packages that are not present in the lockfile.\n",
    "\n",
    "\n",
    "- To retain any extraneous packages:\n",
    "\n",
    "    ```uv sync --inexact```"
   ]
  },
  {
   "cell_type": "markdown",
   "id": "314eb1c5",
   "metadata": {},
   "source": []
  }
 ],
 "metadata": {
  "language_info": {
   "name": "python"
  }
 },
 "nbformat": 4,
 "nbformat_minor": 5
}
