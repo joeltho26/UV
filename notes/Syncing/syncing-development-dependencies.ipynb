{
 "cells": [
  {
   "cell_type": "markdown",
   "id": "9b41d709",
   "metadata": {},
   "source": [
    "### To sync development dependencies:\n",
    "\n",
    "```uv sync --no-group <foo>```\n",
    "\n",
    "- exclude the specific ```foo``` group dependencies\n",
    "\n",
    "```uv sync --only-dev```\n",
    "\n",
    "- to install the ```dev``` group dependencies only without the project and its dependencies\n",
    "\n",
    "```uv sync --no-dev```\n",
    "\n",
    "- exclude the ```dev``` group only dependencies but install project package and dependencies\n",
    "\n",
    "```uv sync --all-groups```\n",
    "\n",
    "- to include all group dependencies and also install project package and dependencies\n",
    "\n",
    "```uv sync --only-group <name>```\n",
    "\n",
    "- to include only group dependencies and not install project package and dependencies\n",
    "\n",
    "```uv sync --group <name>```\n",
    "\n",
    "- to include specific group dependencies and also install project package and dependencies"
   ]
  },
  {
   "cell_type": "markdown",
   "id": "63dc6300",
   "metadata": {},
   "source": []
  }
 ],
 "metadata": {
  "language_info": {
   "name": "python"
  }
 },
 "nbformat": 4,
 "nbformat_minor": 5
}
