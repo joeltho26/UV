{
 "cells": [
  {
   "cell_type": "markdown",
   "id": "03e51a51",
   "metadata": {},
   "source": [
    "### Build constraints:\n",
    "\n",
    "```uv build``` accepts ```--build-constraint```, which can be used to constrain the versions of any build requirements during the build process. When coupled with ```--require-hashes```, uv will enforce that the requirement used to build the project match specific, known hashes, for reproducibility\n",
    "\n",
    "- eg: given constraints.txt:\n",
    "\n",
    "```setuptools==68.2.2 --hash=sha256:b454a35605876da60632df1a60f736524eb73cc47bbc9f3f1ef1b644de74fd2a```\n",
    "\n",
    "Running the following would build the project with the specified version of setuptools, and verify that the downloaded setuptools distribution matches the specified hash\n",
    "\n",
    "```uv build --build-constraint constraints.txt --require-hashes```"
   ]
  },
  {
   "cell_type": "markdown",
   "id": "8a2d3c13",
   "metadata": {},
   "source": []
  }
 ],
 "metadata": {
  "language_info": {
   "name": "python"
  }
 },
 "nbformat": 4,
 "nbformat_minor": 5
}
