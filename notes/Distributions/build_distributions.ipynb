{
 "cells": [
  {
   "cell_type": "markdown",
   "id": "f79326bf",
   "metadata": {},
   "source": [
    "### Build distributions of a project:\n",
    "\n",
    "- directly installable and usable by end-users without requiring compilation or complex build steps during installation. It contains all the necessary files and metadata in a readily consumable format\n",
    "\n",
    "```uv build```\n",
    "\n",
    "```ls dist/``` (to list the distribution created in teminal)\n",
    "\n",
    "- to build source distributions and binary distributions (wheel)\n",
    "    - Source Distribution:\n",
    "        - contains the raw, uncompiled source code of the software, along with all the necessary files to compile it, such as build scripts and configuration files\n",
    "\n",
    "    - Binary Distribution:\n",
    "        - contains software in a pre-compiled, executable format\n",
    "\n",
    "- will build the project in the current directory, and place the built artifacts in a dist/ subdirectory\n"
   ]
  },
  {
   "cell_type": "markdown",
   "id": "320f123b",
   "metadata": {},
   "source": [
    "- we can use different build systems like \n",
    "    - hatchling\n",
    "    - uv_build\n",
    "    - flit-core\n",
    "    - pdm-backend\n",
    "    - setuptools\n",
    "    - maturin\n",
    "    - scikit-build-core"
   ]
  },
  {
   "cell_type": "markdown",
   "id": "d71efc34",
   "metadata": {},
   "source": []
  }
 ],
 "metadata": {
  "language_info": {
   "name": "python"
  }
 },
 "nbformat": 4,
 "nbformat_minor": 5
}
