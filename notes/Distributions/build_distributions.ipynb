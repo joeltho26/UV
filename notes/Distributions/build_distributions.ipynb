{
 "cells": [
  {
   "cell_type": "markdown",
   "id": "f79326bf",
   "metadata": {},
   "source": [
    "### Build distributions of a project:\n",
    "\n",
    "- directly installable and usable by end-users without requiring compilation or complex build steps during installation. It contains all the necessary files and metadata in a readily consumable format\n",
    "\n",
    "```uv build```\n",
    "\n",
    "```ls dist/``` (to list the distribution created in teminal)\n",
    "\n",
    "- to build source distributions and binary distributions (wheel)\n",
    "    - Source Distribution:\n",
    "        - contains the raw, uncompiled source code of the software, along with all the necessary files to compile it, such as build scripts and configuration files\n",
    "\n",
    "    - to build only source distribution:\n",
    "\n",
    "        ```uv build --sdist```\n",
    "\n",
    "    - Binary Distribution:\n",
    "        - contains software in a pre-compiled, executable format\n",
    "\n",
    "    - to build only binary distribution:\n",
    "\n",
    "        ```uv build --wheel```\n",
    "\n",
    "- to build both source and binary distribution:\n",
    "\n",
    "    ```uv build --sdist --wheel .```\n",
    "\n",
    "\n",
    "\n",
    "Note:\n",
    "\n",
    "- will build the project in the current directory, and place the built artifacts in a dist/ subdirectory\n"
   ]
  },
  {
   "cell_type": "markdown",
   "id": "320f123b",
   "metadata": {},
   "source": [
    "- we can use different build systems like \n",
    "    - hatchling\n",
    "    - uv_build\n",
    "    - flit-core\n",
    "    - pdm-backend\n",
    "    - setuptools\n",
    "    - maturin\n",
    "    - scikit-build-core"
   ]
  },
  {
   "cell_type": "markdown",
   "id": "d71efc34",
   "metadata": {},
   "source": [
    "- build the project in a different directory by providing a path to uv build\n",
    " \n",
    "```uv build path/to/project```\n",
    "\n",
    "- uv build will first build a source distribution, and then build a binary distribution (wheel) from that source distribution"
   ]
  },
  {
   "cell_type": "markdown",
   "id": "63be6024",
   "metadata": {},
   "source": []
  }
 ],
 "metadata": {
  "language_info": {
   "name": "python"
  }
 },
 "nbformat": 4,
 "nbformat_minor": 5
}
