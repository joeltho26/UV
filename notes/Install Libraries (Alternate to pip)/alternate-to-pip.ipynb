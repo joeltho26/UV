{
 "cells": [
  {
   "cell_type": "markdown",
   "id": "690b8b51",
   "metadata": {},
   "source": [
    "### Alternate to pip command:\n",
    "\n",
    "```uv pip install python```\n",
    "\n",
    "- used to install libraries into the active environment\n",
    "- not recommended for python project use"
   ]
  },
  {
   "cell_type": "markdown",
   "id": "d0052bc0",
   "metadata": {},
   "source": []
  }
 ],
 "metadata": {
  "language_info": {
   "name": "python"
  }
 },
 "nbformat": 4,
 "nbformat_minor": 5
}
