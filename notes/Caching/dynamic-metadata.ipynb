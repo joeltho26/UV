{
 "cells": [
  {
   "cell_type": "markdown",
   "id": "d0731f3f",
   "metadata": {},
   "source": [
    "### Dynamic Metadata:\n",
    "- dynamic metadata refers to project information, such as its version, that is determined at build time rather than being hardcoded in the pyproject.toml file\n",
    "\n",
    "Note:\n",
    "- uv will only rebuild and reinstall local directory dependencies (e.g., editables) if the pyproject.toml, setup.py, or setup.cfg file in the directory root has changed, or if a src directory is added or removed\n",
    "- to incorporate additional information into the cache key for a given package, you can add cache key entries under ```tool.uv.cache-keys```, which covers both file paths and Git commit hashes. \n",
    "- Setting ```tool.uv.cache-keys``` will replace defaults, so any necessary files (like pyproject.toml) should still be included in the user-defined cache keys"
   ]
  },
  {
   "cell_type": "markdown",
   "id": "e559e5aa",
   "metadata": {},
   "source": []
  }
 ],
 "metadata": {
  "language_info": {
   "name": "python"
  }
 },
 "nbformat": 4,
 "nbformat_minor": 5
}
