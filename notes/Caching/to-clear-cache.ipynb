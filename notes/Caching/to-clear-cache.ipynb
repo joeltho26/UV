{
 "cells": [
  {
   "cell_type": "markdown",
   "id": "f24b0a63",
   "metadata": {},
   "source": [
    "### To clean cache:\n",
    "\n",
    "```uv cache clean <package-name>```\n",
    "\n",
    "- force uv to revalidate cached data for all dependencies, pass ```--refresh``` to any command (e.g., uv sync --refresh or uv pip install --refresh ...).\n",
    "\n",
    "- force uv to revalidate cached data for a specific dependency pass ```--refresh-package``` to any command (e.g., uv sync --refresh-package ruff or uv pip install --refresh-package ruff ...).\n",
    "\n",
    "- force uv to ignore existing installed versions, pass ```--reinstall``` to any installation command (e.g., uv sync --reinstall or uv pip install --reinstall ...). \n",
    "    - (Consider running uv cache clean <package-name> first, to ensure that the cache is cleared prior to reinstallation.)"
   ]
  },
  {
   "cell_type": "markdown",
   "id": "19682315",
   "metadata": {},
   "source": []
  }
 ],
 "metadata": {
  "language_info": {
   "name": "python"
  }
 },
 "nbformat": 4,
 "nbformat_minor": 5
}
