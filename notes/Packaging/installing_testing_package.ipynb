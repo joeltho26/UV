{
 "cells": [
  {
   "cell_type": "markdown",
   "id": "2e42d439",
   "metadata": {},
   "source": [
    "### Installing and Testing Package:\n",
    "\n",
    "```uv run --with <PACKAGE> --no-project -- python -c \"import <PACKAGE>\"```\n",
    "\n",
    "- may need to include the ```--refresh-package <PACKAGE>``` option, if we have recently installed the package"
   ]
  }
 ],
 "metadata": {
  "language_info": {
   "name": "python"
  }
 },
 "nbformat": 4,
 "nbformat_minor": 5
}
