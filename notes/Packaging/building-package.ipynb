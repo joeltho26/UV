{
 "cells": [
  {
   "cell_type": "markdown",
   "id": "55defc3e",
   "metadata": {},
   "source": [
    "### Building package:\n",
    "\n",
    "```uv build```\n",
    "\n",
    "- will build the project in the current directory, and place the built artifacts in a dist/ subdirectory\n",
    "\n",
    "```uv build <SRC>```\n",
    "\n",
    "- will build the package in the specified directory\n",
    "\n",
    "```uv build --package <PACKAGE>```\n",
    "\n",
    "- will build the specified package within the current workspace\n",
    "\n",
    "\n",
    "Note:\n",
    "- uv build respects tool.uv.sources when resolving build dependencies from the build-system.requires section of the pyproject.toml."
   ]
  },
  {
   "cell_type": "markdown",
   "id": "f48e88b4",
   "metadata": {},
   "source": []
  }
 ],
 "metadata": {
  "language_info": {
   "name": "python"
  }
 },
 "nbformat": 4,
 "nbformat_minor": 5
}
