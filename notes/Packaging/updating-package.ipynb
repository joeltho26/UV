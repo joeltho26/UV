{
 "cells": [
  {
   "cell_type": "markdown",
   "id": "9c77889e",
   "metadata": {},
   "source": [
    "### Updating package:\n",
    "\n",
    "```uv version 1.0.0```\n",
    "\n",
    "- before publishing it, if we want to update the package version, use the command above\n",
    "    - results in, hello-word 0.7.0 => 1.0.0\n",
    "\n",
    "- To preview the change without updating the pyproject.toml, use the ```--dry-run``` flag\n",
    "\n",
    "    ```uv version 2.0.0 --dry-run```\n",
    "    \n",
    "    - results in, hello-word 1.0.0 => 2.0.0\n",
    "\n",
    "- To increase the version of your package semantics\n",
    "\n",
    "    ```uv version --bump minor```\n",
    "\n",
    "    - results in, hello-world 1.2.3 => 1.3.0 \n",
    "\n",
    "    ```uv version --bump major```\n",
    "\n",
    "    - results in, hello-world 1.2.3 => 2.0.0 \n",
    "\n",
    "    ```uv version --bump patch --bump beta```\n",
    "\n",
    "    - results in, hello-world 1.3.0 => 1.3.1b1 \n",
    "\n",
    "    ```uv version --bump major --bump alpha```\n",
    "\n",
    "    - results in, hello-world 1.2.3 => 2.0.0a1 \n",
    "\n",
    "    ```uv version --bump beta```\n",
    "\n",
    "    - results in, hello-world 1.2.0b1 => 1.2.1b2 "
   ]
  },
  {
   "cell_type": "markdown",
   "id": "bd0996fa",
   "metadata": {},
   "source": []
  }
 ],
 "metadata": {
  "language_info": {
   "name": "python"
  }
 },
 "nbformat": 4,
 "nbformat_minor": 5
}
