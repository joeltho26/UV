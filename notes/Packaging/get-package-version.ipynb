{
 "cells": [
  {
   "cell_type": "markdown",
   "id": "9d3da9db",
   "metadata": {},
   "source": [
    "### To get the version of package:\n",
    "\n",
    "- Package:\n",
    "    - package is a set of software programs\n",
    "\n",
    "```uv version```\n",
    "\n",
    "- output:\n",
    "    - hello-word 0.7.0\n",
    "\n",
    "```uv version --output-format json```\n",
    "\n",
    "- output:\n"
   ]
  },
  {
   "cell_type": "code",
   "execution_count": 1,
   "id": "f12dbbbc",
   "metadata": {},
   "outputs": [
    {
     "data": {
      "text/plain": [
       "'\\n{\\n    \"package_name\" : \"hello_world\",\\n    \"version\" : \"0.7.0\",\\n    \"commit_info\" : null\\n}\\n'"
      ]
     },
     "execution_count": 1,
     "metadata": {},
     "output_type": "execute_result"
    }
   ],
   "source": [
    "\"\"\"\n",
    "{\n",
    "    \"package_name\" : \"hello_world\",\n",
    "    \"version\" : \"0.7.0\",\n",
    "    \"commit_info\" : null\n",
    "}\n",
    "\"\"\""
   ]
  },
  {
   "cell_type": "markdown",
   "id": "54454496",
   "metadata": {},
   "source": []
  }
 ],
 "metadata": {
  "kernelspec": {
   "display_name": "Python 3",
   "language": "python",
   "name": "python3"
  },
  "language_info": {
   "codemirror_mode": {
    "name": "ipython",
    "version": 3
   },
   "file_extension": ".py",
   "mimetype": "text/x-python",
   "name": "python",
   "nbconvert_exporter": "python",
   "pygments_lexer": "ipython3",
   "version": "3.13.7"
  }
 },
 "nbformat": 4,
 "nbformat_minor": 5
}
