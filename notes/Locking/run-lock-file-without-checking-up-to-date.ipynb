{
 "cells": [
  {
   "cell_type": "markdown",
   "id": "476d89c6",
   "metadata": {},
   "source": [
    "### Running command without checking if lockfile is up-to-date:\n",
    "\n",
    "```uv run --frozen```"
   ]
  },
  {
   "cell_type": "markdown",
   "id": "b1485681",
   "metadata": {},
   "source": []
  }
 ],
 "metadata": {
  "language_info": {
   "name": "python"
  }
 },
 "nbformat": 4,
 "nbformat_minor": 5
}
