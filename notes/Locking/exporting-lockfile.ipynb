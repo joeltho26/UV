{
 "cells": [
  {
   "cell_type": "markdown",
   "id": "470a23b1",
   "metadata": {},
   "source": [
    "### Exporting lockfile:\n",
    "\n",
    "the lock file can be export to requirements.txt,\n",
    "\n",
    "```uv export --format requirements-txt```"
   ]
  },
  {
   "cell_type": "markdown",
   "id": "1267477c",
   "metadata": {},
   "source": []
  }
 ],
 "metadata": {
  "language_info": {
   "name": "python"
  }
 },
 "nbformat": 4,
 "nbformat_minor": 5
}
