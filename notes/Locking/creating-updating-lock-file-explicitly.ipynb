{
 "cells": [
  {
   "cell_type": "markdown",
   "id": "ba2de105",
   "metadata": {},
   "source": [
    "### Creating lock file:\n",
    "\n",
    "- uv.lock:\n",
    "    - is a cross-platform lockfile lockfile that captures the packages versions installed in our project\n",
    "    - lockfile contains the exact resolved versions that are installed in the project environment\n",
    "    - this file should be checked into version control, allowing for consistent and reproducible installations across machines\n",
    "\n",
    "- the uv.lock file is created and updated when we execute,\n",
    "  \n",
    "```uv sync```\n",
    "\n",
    "```uv run```\n",
    "\n",
    "```uv lock```\n"
   ]
  },
  {
   "cell_type": "markdown",
   "id": "cf59ca25",
   "metadata": {},
   "source": []
  }
 ],
 "metadata": {
  "language_info": {
   "name": "python"
  }
 },
 "nbformat": 4,
 "nbformat_minor": 5
}
