{
 "cells": [
  {
   "cell_type": "markdown",
   "id": "226e7e40",
   "metadata": {},
   "source": [
    "### Check lockfile whether up-to-date or not:\n",
    "\n",
    "```uv lock -- check```\n",
    "\n",
    "Note:\n",
    "- uv will not consider lockfiles outdated when new versions of packages are released — the lockfile needs to be explicitly updated if you want to upgrade dependencies"
   ]
  },
  {
   "cell_type": "markdown",
   "id": "392eb867",
   "metadata": {},
   "source": []
  }
 ],
 "metadata": {
  "language_info": {
   "name": "python"
  }
 },
 "nbformat": 4,
 "nbformat_minor": 5
}
