{
 "cells": [
  {
   "cell_type": "markdown",
   "id": "ebcd383d",
   "metadata": {},
   "source": [
    "### To upgrade all packages that are locked:\n",
    "\n",
    "```uv lock --upgrade```\n",
    "\n",
    "\n",
    "### To upgrade a single package to the latest version:\n",
    "\n",
    "\n",
    "```uv lock --upgrade-package <package>```\n",
    "\n",
    "### To upgrade a single package to a specific version\n",
    "\n",
    "```uv lock --upgrade-package <package>==<version>```\n",
    "\n",
    "Note:\n",
    "- if the project defines an upper bound for a package then an upgrade will not go beyond that version\n",
    "- if a Git dependency references the main branch, uv will prefer the locked commit SHA in an existing uv.lock file over the latest commit on the main branch, unless the --upgrade or --upgrade-package flags are used"
   ]
  },
  {
   "cell_type": "markdown",
   "id": "e12450a5",
   "metadata": {},
   "source": []
  }
 ],
 "metadata": {
  "language_info": {
   "name": "python"
  }
 },
 "nbformat": 4,
 "nbformat_minor": 5
}
