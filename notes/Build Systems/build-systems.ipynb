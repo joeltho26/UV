{
 "cells": [
  {
   "cell_type": "markdown",
   "id": "2f04a3d0",
   "metadata": {},
   "source": [
    "### Build system:\n",
    "\n",
    "- explains how the the project should be packaged and installed\n",
    "- the build system is declared inside the ```pyproject.toml``` file with table section ```[build-system]```"
   ]
  },
  {
   "cell_type": "code",
   "execution_count": null,
   "id": "6b795017",
   "metadata": {},
   "outputs": [],
   "source": [
    "from PIL import Image \n",
    "from IPython.display import display\n",
    "\n",
    "img = Image.open('images/locking_disable.png')\n",
    "new_image = img.resize((190, 130))\n",
    "display(new_image)"
   ]
  },
  {
   "cell_type": "markdown",
   "id": "ccd8aa89",
   "metadata": {},
   "source": [
    "- --build-backend option can be provided to uv init to create a packaged project\n",
    "\n",
    "```uv init --build-backend``` \n",
    "\n",
    "- --package option can be provided to uv init to create a packaged project with default build system\n",
    "\n",
    "```uv init --package```\n"
   ]
  },
  {
   "cell_type": "markdown",
   "id": "a0935f28",
   "metadata": {},
   "source": []
  }
 ],
 "metadata": {
  "language_info": {
   "name": "python"
  }
 },
 "nbformat": 4,
 "nbformat_minor": 5
}
