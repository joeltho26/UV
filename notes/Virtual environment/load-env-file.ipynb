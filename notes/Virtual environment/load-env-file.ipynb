{
 "cells": [
  {
   "cell_type": "markdown",
   "id": "45a105ab",
   "metadata": {},
   "source": [
    "### Load environment variables:\n",
    "\n",
    "- ```uv run``` can load environment variables from dotenv files\n",
    "\n",
    "- To load a ```.env``` file from a dedicated location, set the ```UV_ENV_FILE``` environment variable, or pass the ```--env-file``` flag to uv run\n",
    "    - eg: \n",
    "        \n",
    "        ```echo \"MY_VAR='Hello, world!'\" > .env```\n",
    "\n",
    "        ```uv run --env-file .env -- python -c 'import os; print(os.getenv(\"MY_VAR\"))'```\n",
    "\n",
    "Note:\n",
    "\n",
    "- The ```--env-file``` flag can be provided multiple times, with subsequent files overriding values defined in previous files. To provide multiple files via the ```UV_ENV_FILE``` environment variable, separate the paths with a space \n",
    "    \n",
    "    - e.g., ```UV_ENV_FILE=\"/path/to/file1 /path/to/file2\"```\n",
    "\n",
    "- If the same variable is defined in the environment and in a ```.env``` file, the value from the environment will take precedence. \n"
   ]
  },
  {
   "cell_type": "markdown",
   "id": "840edc22",
   "metadata": {},
   "source": []
  }
 ],
 "metadata": {
  "language_info": {
   "name": "python"
  }
 },
 "nbformat": 4,
 "nbformat_minor": 5
}
