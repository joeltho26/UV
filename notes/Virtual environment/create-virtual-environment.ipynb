{
 "cells": [
  {
   "cell_type": "markdown",
   "id": "87d31cec",
   "metadata": {},
   "source": [
    "### To create env:\n",
    "\n",
    "```uv env``` "
   ]
  },
  {
   "cell_type": "markdown",
   "id": "47fa37fe",
   "metadata": {},
   "source": []
  }
 ],
 "metadata": {
  "language_info": {
   "name": "python"
  }
 },
 "nbformat": 4,
 "nbformat_minor": 5
}
