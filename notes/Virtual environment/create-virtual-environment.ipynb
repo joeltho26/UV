{
 "cells": [
  {
   "cell_type": "markdown",
   "id": "87d31cec",
   "metadata": {},
   "source": [
    "### To create env:\n",
    "\n",
    "```uv venv```\n",
    "\n",
    "- creates .venv\n",
    "\n",
    "```uv venv my-name```\n",
    "\n",
    "- with custom name for venv\n",
    "\n",
    "\n",
    "```uv venv --python 3.11```\n",
    "\n",
    "- python version requested to create virtual environment"
   ]
  },
  {
   "cell_type": "markdown",
   "id": "47fa37fe",
   "metadata": {},
   "source": []
  }
 ],
 "metadata": {
  "language_info": {
   "name": "python"
  }
 },
 "nbformat": 4,
 "nbformat_minor": 5
}
