{
 "cells": [
  {
   "cell_type": "markdown",
   "id": "a8054a17",
   "metadata": {},
   "source": [
    "### Deactivate virtual environment:\n",
    "\n",
    "```deactivate```"
   ]
  },
  {
   "cell_type": "markdown",
   "id": "451c0b0b",
   "metadata": {},
   "source": []
  }
 ],
 "metadata": {
  "language_info": {
   "name": "python"
  }
 },
 "nbformat": 4,
 "nbformat_minor": 5
}
