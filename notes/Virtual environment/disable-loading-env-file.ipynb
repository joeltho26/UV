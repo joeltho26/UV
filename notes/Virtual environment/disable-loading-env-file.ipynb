{
 "cells": [
  {
   "cell_type": "markdown",
   "id": "8bda647f",
   "metadata": {},
   "source": [
    "### Disable load environment variables:\n",
    "\n",
    "- To disable dotenv loading (e.g., to override ```UV_ENV_FILE``` or the ```--env-file``` command-line argument), set the ```UV_NO_ENV_FILE``` environment variable to 1, or pass the ```--no-env-file``` flag to uv run."
   ]
  },
  {
   "cell_type": "markdown",
   "metadata": {},
   "source": []
  }
 ],
 "metadata": {
  "language_info": {
   "name": "python"
  }
 },
 "nbformat": 4,
 "nbformat_minor": 5
}
