{
 "cells": [
  {
   "cell_type": "markdown",
   "id": "72c69020",
   "metadata": {},
   "source": [
    "### Manually update the environment, then activate it\n",
    "\n",
    "1. #### MacOs/Linux:\n",
    "\n",
    "    ```uv sync```\n",
    "\n",
    "    ```source .venv/bin/activate```\n",
    "\n",
    "    ```flask run -p 3000```\n",
    "\n",
    "    ```Python example.py```\n",
    "\n",
    "\n",
    "2. #### Windows:\n",
    "    \n",
    "    ```uv sync```\n",
    "\n",
    "    ```.venvScripts/activate```\n",
    "\n",
    "    ```flask run -p 3000```\n",
    "\n",
    "    ```Python example.py```"
   ]
  },
  {
   "cell_type": "markdown",
   "id": "c4544e43",
   "metadata": {},
   "source": []
  }
 ],
 "metadata": {
  "language_info": {
   "name": "python"
  }
 },
 "nbformat": 4,
 "nbformat_minor": 5
}
