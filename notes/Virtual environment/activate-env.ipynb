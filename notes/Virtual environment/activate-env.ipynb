{
 "cells": [
  {
   "cell_type": "markdown",
   "id": "2e76057e",
   "metadata": {},
   "source": [
    "### To activate env:\n",
    "- Macbook/Linux:\n",
    "\n",
    "```source venv/bin/activate```\n",
    "\n",
    "- Windows:\n",
    "    - Try below steps,\n",
    "        - In powershell:\n",
    "\n",
    "            ```.\\venv\\Scripts\\Activate.ps1```\n",
    "\n",
    "        - In command prompt:\n",
    "\n",
    "            ```.\\venv\\Scripts\\activate.bat```\n",
    "            \n",
    "    - If not working, try below steps:\n",
    "        - Execute the below command:\n",
    "\n",
    "            ```Set-ExecutionPolicy Unrestricted -Scope Process```\n",
    "\n",
    "    - If not working, try below steps:\n",
    "        - Set python path like in Environment Variable (settings -> environment variables)\n",
    "\n",
    "            ```C:\\Program Files\\Python310\\Scripts\\``` \n",
    "        - Open PowerShell in Admin mode , and execute the below command:\n",
    "\n",
    "            ```Set-ExecutionPolicy Unrestricted -Force```\n",
    "        - Execute the below command:\n",
    "\n",
    "            ```venv\\scripts\\activate```\n"
   ]
  },
  {
   "cell_type": "code",
   "execution_count": null,
   "id": "0aeeae7d",
   "metadata": {},
   "outputs": [],
   "source": []
  },
  {
   "cell_type": "markdown",
   "id": "f72799aa",
   "metadata": {},
   "source": []
  }
 ],
 "metadata": {
  "language_info": {
   "name": "python"
  }
 },
 "nbformat": 4,
 "nbformat_minor": 5
}
