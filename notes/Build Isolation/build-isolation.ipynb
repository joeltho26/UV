{
 "cells": [
  {
   "cell_type": "markdown",
   "id": "5f70eab0",
   "metadata": {},
   "source": [
    "### Build Isolation:\n",
    "\n",
    "- By default, ```uv``` builds all packages in isolated virtual environments alongside their declared build dependencies\n",
    "- however, some packages are incompatible with this approach to build isolation eg: ```flash-attn``` & ```deepspeed``` which needs to build against the same version of ```PyTorch``` installed in the project environment\n",
    "- in other cases, packages may accidentally omit necessary dependencies in their declared build dependency list. \n",
    "    - eg: ```cchardet``` requires ```cython``` to be installed in the project environment prior to installing ```cchardet```, but does not declare it as a build dependency"
   ]
  },
  {
   "cell_type": "markdown",
   "id": "96d6bf7d",
   "metadata": {},
   "source": [
    "There are 2 options to address the above issues:\n",
    "1. Augmenting list of build dependencies (recommended)\n",
    "2. Disabling build isolation"
   ]
  }
 ],
 "metadata": {
  "kernelspec": {
   "display_name": "Python 3",
   "language": "python",
   "name": "python3"
  },
  "language_info": {
   "codemirror_mode": {
    "name": "ipython",
    "version": 3
   },
   "file_extension": ".py",
   "mimetype": "text/x-python",
   "name": "python",
   "nbconvert_exporter": "python",
   "pygments_lexer": "ipython3",
   "version": "3.13.7"
  }
 },
 "nbformat": 4,
 "nbformat_minor": 5
}
