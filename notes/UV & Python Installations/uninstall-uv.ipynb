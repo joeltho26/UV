{
 "cells": [
  {
   "cell_type": "markdown",
   "id": "c407fb1e",
   "metadata": {},
   "source": [
    "### Uninstall UV:\n",
    "\n",
    "```uv cache clean```\n",
    "\n",
    "```rm -r \"$(uv python dir)\"```\n",
    "\n",
    "```rm -r \"$(uv tool dir)\"```"
   ]
  },
  {
   "cell_type": "markdown",
   "id": "30a5af38",
   "metadata": {},
   "source": []
  }
 ],
 "metadata": {
  "language_info": {
   "name": "python"
  }
 },
 "nbformat": 4,
 "nbformat_minor": 5
}
