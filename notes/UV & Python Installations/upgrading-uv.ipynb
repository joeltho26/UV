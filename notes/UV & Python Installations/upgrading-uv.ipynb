{
 "cells": [
  {
   "cell_type": "markdown",
   "id": "6cc5423f",
   "metadata": {},
   "source": [
    "### Upgrading UV:\n",
    "\n",
    "- when uv installed via standalone installer,\n",
    "\n",
    "    ```uv self update```\n",
    "\n",
    "- using pip:\n",
    "\n",
    "    ```pip install --upgrade uv```\n"
   ]
  },
  {
   "cell_type": "markdown",
   "id": "b8369b2d",
   "metadata": {},
   "source": []
  }
 ],
 "metadata": {
  "language_info": {
   "name": "python"
  }
 },
 "nbformat": 4,
 "nbformat_minor": 5
}
