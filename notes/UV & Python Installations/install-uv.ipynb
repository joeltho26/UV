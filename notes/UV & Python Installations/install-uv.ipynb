{
 "cells": [
  {
   "cell_type": "markdown",
   "id": "3b0dc503",
   "metadata": {},
   "source": [
    "### To install UV:\n",
    "\n",
    "MacOS/Linux:\n",
    "\n",
    "- via curl:\n",
    "\n",
    "```curl -LsSf https://astral.sh/uv/install.sh | sh```\n",
    "\n",
    "- via wget:\n",
    "\n",
    "```wget -qO- https://astral.sh/uv/install.sh | sh```\n",
    "\n",
    "- via curl (specific version):\n",
    "\n",
    "```curl -LsSf https://astral.sh/uv/0.8.22/install.sh | sh```\n",
    "\n",
    "Windows:\n",
    "\n",
    "- via powershell\n",
    "\n",
    "```powershell -ExecutionPolicy ByPass -c \"irm https://astral.sh/uv/install.ps1 | iex\"```\n",
    "\n",
    "- via powershell (specific version):\n",
    "\n",
    "```powershell -ExecutionPolicy ByPass -c \"irm https://astral.sh/uv/0.8.22/install.ps1 | iex\"```\n"
   ]
  },
  {
   "cell_type": "markdown",
   "id": "76d30b9d",
   "metadata": {},
   "source": [
    "PyPI:\n",
    "\n",
    "```pip install uv```\n",
    "\n",
    "Homebrew:\n",
    "\n",
    "```brew install uv```\n",
    "\n",
    "WinGet:\n",
    "\n",
    "```winget install --id=astral-sh.uv -e```\n",
    "\n",
    "Scoop:\n",
    "\n",
    "```scoop install main/uv```\n",
    "\n",
    "Docker:\n",
    "\n",
    "- image: ```ghcr.io/astral-sh/uv```\n",
    "\n",
    "Cargo:\n",
    "\n",
    "```cargo install --git https://github.com/astral-sh/uv uv```\n"
   ]
  },
  {
   "cell_type": "markdown",
   "id": "2df9d103",
   "metadata": {},
   "source": []
  }
 ],
 "metadata": {
  "language_info": {
   "name": "python"
  }
 },
 "nbformat": 4,
 "nbformat_minor": 5
}
