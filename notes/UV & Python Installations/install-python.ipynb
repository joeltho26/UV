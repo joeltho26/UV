{
 "cells": [
  {
   "cell_type": "markdown",
   "id": "ae4e3b67",
   "metadata": {},
   "source": [
    "### Install Python using uv:\n",
    "\n",
    "Just install python:\n",
    "\n",
    "```uv python install```\n",
    "\n",
    "Specific version:\n",
    "\n",
    "```uv python install 3.12```\n",
    "\n",
    "To install multiple versions of python:\n",
    "\n",
    "```uv python install 3.12 3.11```\n",
    "\n",
    "To install an alternative Python implementation:\n",
    "\n",
    "```uv python install pypy@3.10```"
   ]
  },
  {
   "cell_type": "markdown",
   "id": "2fdfb914",
   "metadata": {},
   "source": []
  }
 ],
 "metadata": {
  "language_info": {
   "name": "python"
  }
 },
 "nbformat": 4,
 "nbformat_minor": 5
}
