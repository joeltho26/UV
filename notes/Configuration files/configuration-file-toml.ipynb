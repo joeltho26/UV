{
 "cells": [
  {
   "cell_type": "markdown",
   "id": "449772eb",
   "metadata": {},
   "source": [
    "### Confguration files:\n",
    "\n",
    "- uv supports persistent configuration files at both the project- and user-level.\n",
    "\n",
    "- Specifically, uv will search for a ```pyproject.toml``` or ```uv.toml``` file in the current directory, or in the nearest parent directory. \n",
    "\n",
    "- uv will also discover user-level configuration at ```~/.config/uv/uv.toml``` (or ```$XDG_CONFIG_HOME/uv/uv.toml```) on macOS and Linux, or ```%APPDATA%\\uv\\uv.toml``` on Windows; and system-level configuration at ```/etc/uv/uv.toml``` (or ```$XDG_CONFIG_DIRS/uv/uv.toml```) on macOS and Linux, or ```%SYSTEMDRIVE%\\ProgramData\\uv\\uv.toml``` on Windows.\n",
    "\n",
    "- User-and system-level configuration must use the uv.toml format, rather than the pyproject.toml format, as a pyproject.toml is intended to define a Python project.\n",
    "\n",
    "- If project-, user-, and system-level configuration files are found, the settings will be merged, with project-level configuration taking precedence over the user-level configuration, and user-level configuration taking precedence over the system-level configuration. (If multiple system-level configuration files are found, e.g., at both ```/etc/uv/uv.toml``` and ```$XDG_CONFIG_DIRS/uv/uv.toml```, only the first-discovered file will be used, with XDG taking priority.)\n",
    "\n",
    "- For example, if a string, number, or boolean is present in both the project- and user-level configuration tables, the project-level value will be used, and the user-level value will be ignored. If an array is present in both tables, the arrays will be concatenated, with the project-level settings appearing earlier in the merged array.\n",
    "\n",
    "- Settings provided via environment variables take precedence over persistent configuration, and settings provided via the command line take precedence over both.\n",
    "\n",
    "- uv accepts a ```--no-config``` command-line argument which, when provided, disables the discovery of any persistent configuration.\n",
    "\n",
    "- uv also accepts a ```--config-file``` command-line argument, which accepts a path to a ```uv.toml``` to use as the configuration file. When provided, this file will be used in place of any discovered configuration files (e.g., user-level configuration will be ignored)."
   ]
  },
  {
   "cell_type": "markdown",
   "id": "bbade943",
   "metadata": {},
   "source": []
  }
 ],
 "metadata": {
  "language_info": {
   "name": "python"
  }
 },
 "nbformat": 4,
 "nbformat_minor": 5
}
