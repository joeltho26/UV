{
 "cells": [
  {
   "cell_type": "markdown",
   "id": "c7e67a23",
   "metadata": {},
   "source": [
    "### To run a program within the project folder:\n",
    "\n",
    "```uv run main.py```\n",
    "\n",
    "Note:\n",
    "\n",
    "- whenever, we run the command ```uv run``` it creates a virtual environment ```.venv```"
   ]
  },
  {
   "cell_type": "markdown",
   "id": "cba91f02",
   "metadata": {},
   "source": []
  }
 ],
 "metadata": {
  "language_info": {
   "name": "python"
  }
 },
 "nbformat": 4,
 "nbformat_minor": 5
}
