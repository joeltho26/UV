{
 "cells": [
  {
   "cell_type": "markdown",
   "id": "c7e67a23",
   "metadata": {},
   "source": [
    "### To run a program within the project folder:\n",
    "\n",
    "```uv run main.py```"
   ]
  },
  {
   "cell_type": "markdown",
   "id": "cba91f02",
   "metadata": {},
   "source": []
  }
 ],
 "metadata": {
  "language_info": {
   "name": "python"
  }
 },
 "nbformat": 4,
 "nbformat_minor": 5
}
