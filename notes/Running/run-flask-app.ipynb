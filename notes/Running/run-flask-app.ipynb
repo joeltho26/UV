{
 "cells": [
  {
   "cell_type": "markdown",
   "id": "5453e41c",
   "metadata": {},
   "source": [
    "### Run flask application from the project:\n",
    "\n",
    "```uv run —- flask run -p 3000```"
   ]
  },
  {
   "cell_type": "markdown",
   "id": "ef368d64",
   "metadata": {},
   "source": []
  }
 ],
 "metadata": {
  "language_info": {
   "name": "python"
  }
 },
 "nbformat": 4,
 "nbformat_minor": 5
}
