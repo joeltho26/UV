{
 "cells": [
  {
   "cell_type": "markdown",
   "id": "2894bb25",
   "metadata": {},
   "source": [
    "### Adding package indexes via command line/environment variables:\n",
    "\n",
    "When providing an index on the command line (with ```--index``` or ```--default-index```) or through an environment variable (```UV_INDEX``` or ```UV_DEFAULT_INDEX```), names are optional but can be included using the ```<name>=<url>``` syntax\n",
    "\n",
    "- via command line:\n",
    "\n",
    "    ```$ uv lock --index pytorch=https://download.pytorch.org/whl/cpu```\n",
    "\n",
    "- via an environment variable:\n",
    "\n",
    "    ```$ UV_INDEX=pytorch=https://download.pytorch.org/whl/cpu uv lock```"
   ]
  },
  {
   "cell_type": "markdown",
   "id": "4456c3a0",
   "metadata": {},
   "source": []
  }
 ],
 "metadata": {
  "language_info": {
   "name": "python"
  }
 },
 "nbformat": 4,
 "nbformat_minor": 5
}
