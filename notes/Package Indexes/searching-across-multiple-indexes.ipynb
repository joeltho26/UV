{
 "cells": [
  {
   "cell_type": "markdown",
   "id": "2f7d32b9",
   "metadata": {},
   "source": [
    "### Searching across multiple indexes:\n",
    "- By default, ```uv``` will stop at the ```first index``` on which a given package is available, and limit resolutions to those present on that first index\n",
    "- To opt in to alternate index behaviors, use the ```--index-strategy``` command-line option, or the ```UV_INDEX_STRATEGY``` environment variable\n",
    "\n",
    "    - ```first-index``` (default): Search for each package across all indexes, limiting the candidate versions to those present in the first index that contains the package.\n",
    "\n",
    "    - ```unsafe-first-match```: Search for each package across all indexes, but prefer the first index with a compatible version, even if newer versions are available on other indexes.\n",
    "\n",
    "    - ```unsafe-best-match```: Search for each package across all indexes, and select the best version from the combined set of candidate versions"
   ]
  },
  {
   "cell_type": "markdown",
   "id": "12b55b28",
   "metadata": {},
   "source": []
  }
 ],
 "metadata": {
  "language_info": {
   "name": "python"
  }
 },
 "nbformat": 4,
 "nbformat_minor": 5
}
