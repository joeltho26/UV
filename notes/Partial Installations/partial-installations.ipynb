{
 "cells": [
  {
   "cell_type": "markdown",
   "id": "e253d547",
   "metadata": {},
   "source": [
    "### Partial Installations:\n",
    "\n",
    "- helps to perform installations in multiple steps, e.g., for optimal layer caching while building a Docker image. uv sync has several flags for this purpose\n",
    "\n",
    "Do not install the current project\n",
    "- ```--no-install-project```\n",
    "\n",
    "Do not install any workspace members, including the root project\n",
    "- ```--no-install-workspace```\n",
    "\n",
    "Do not install the given package(s)\n",
    "- ```--no-install-package <NO_INSTALL_PACKAGE>```\n",
    "\n",
    "Note:\n",
    "- if used improperly, these flags can result in a broken environment since a package can be missing its dependencies"
   ]
  },
  {
   "cell_type": "markdown",
   "id": "92ad02ec",
   "metadata": {},
   "source": []
  }
 ],
 "metadata": {
  "language_info": {
   "name": "python"
  }
 },
 "nbformat": 4,
 "nbformat_minor": 5
}
