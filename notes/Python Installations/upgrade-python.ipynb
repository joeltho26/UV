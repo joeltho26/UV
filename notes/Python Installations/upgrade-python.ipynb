{
 "cells": [
  {
   "cell_type": "markdown",
   "id": "b939e02b",
   "metadata": {},
   "source": [
    "### Upgrade Python installations:\n",
    "\n",
    "```uv python upgrade 3.12```"
   ]
  },
  {
   "cell_type": "markdown",
   "id": "3c6ad358",
   "metadata": {},
   "source": []
  }
 ],
 "metadata": {
  "language_info": {
   "name": "python"
  }
 },
 "nbformat": 4,
 "nbformat_minor": 5
}
