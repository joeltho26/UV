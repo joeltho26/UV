{
 "cells": [
  {
   "cell_type": "markdown",
   "id": "c5b20410",
   "metadata": {},
   "source": [
    "### View python installations:\n",
    "\n",
    "```uv python list```"
   ]
  },
  {
   "cell_type": "markdown",
   "id": "ba2fcd6b",
   "metadata": {},
   "source": []
  }
 ],
 "metadata": {
  "language_info": {
   "name": "python"
  }
 },
 "nbformat": 4,
 "nbformat_minor": 5
}
