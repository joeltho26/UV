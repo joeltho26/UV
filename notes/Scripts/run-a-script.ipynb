{
 "cells": [
  {
   "cell_type": "markdown",
   "id": "e00cf3c1",
   "metadata": {},
   "source": [
    "### Run a script using uv:\n",
    "\n",
    "1. #### Without any dependencies:\n",
    "    \n",
    "- example.py (file):"
   ]
  },
  {
   "cell_type": "code",
   "execution_count": 1,
   "id": "e9018a15",
   "metadata": {},
   "outputs": [
    {
     "name": "stdout",
     "output_type": "stream",
     "text": [
      "Hello world!\n"
     ]
    }
   ],
   "source": [
    "print(\"Hello world!\")"
   ]
  },
  {
   "cell_type": "markdown",
   "id": "759394fe",
   "metadata": {},
   "source": [
    "- Terminal:\n",
    "    - ```uv run example.py```\n",
    "\n",
    "- Output:\n",
    "    - Hello World!"
   ]
  },
  {
   "cell_type": "markdown",
   "id": "8954c37d",
   "metadata": {},
   "source": [
    "2. #### Even when we use any standard library (similar to without any dependencies):\n",
    "- example.py (file):"
   ]
  },
  {
   "cell_type": "code",
   "execution_count": 2,
   "id": "34850466",
   "metadata": {},
   "outputs": [
    {
     "name": "stdout",
     "output_type": "stream",
     "text": [
      "C:\\Users\\joelj\n"
     ]
    }
   ],
   "source": [
    "import os\n",
    "print(os.path.expanduser(\"~\"))"
   ]
  },
  {
   "cell_type": "markdown",
   "id": "d299cddc",
   "metadata": {},
   "source": [
    "- Terminal:\n",
    "    - ```uv run example.py```\n",
    "    \n",
    "- Output:\n",
    "    - /Users/astral"
   ]
  },
  {
   "cell_type": "markdown",
   "id": "c19dca40",
   "metadata": {},
   "source": [
    "3. #### Providing arguments to a script:\n",
    "\n",
    "- example.py (file):"
   ]
  },
  {
   "cell_type": "code",
   "execution_count": 3,
   "id": "f18da995",
   "metadata": {},
   "outputs": [
    {
     "name": "stdout",
     "output_type": "stream",
     "text": [
      "--f=c:\\Users\\joelj\\AppData\\Roaming\\jupyter\\runtime\\kernel-v3ad1d0a21212eb30e23c547e5faaa771c7c4f43ba.json\n"
     ]
    }
   ],
   "source": [
    "import sys\n",
    "print(\"\".join(sys.argv[1:]))"
   ]
  },
  {
   "cell_type": "markdown",
   "id": "13a917d7",
   "metadata": {},
   "source": [
    "- Terminal:\n",
    "    - ```uv run example.py hello world!```\n",
    "        \n",
    "- Output:\n",
    "    - hello world!"
   ]
  },
  {
   "cell_type": "markdown",
   "id": "ef61852c",
   "metadata": {},
   "source": [
    "#### Note:\n",
    "- if you use uv run in a project, i.e., a directory with a pyproject.toml, it will install the current project before running the script. If your script does not depend on the project, use the --no-project\n",
    "\n",
    "- Terminal:\n",
    "    - ```uv run example.py hello world!```\n"
   ]
  },
  {
   "cell_type": "markdown",
   "id": "2d1c31f4",
   "metadata": {},
   "source": [
    "4. #### Running a script with dependencies:\n",
    "\n",
    "- example.py (file):"
   ]
  },
  {
   "cell_type": "code",
   "execution_count": null,
   "id": "3403b2f2",
   "metadata": {},
   "outputs": [
    {
     "data": {
      "application/vnd.jupyter.widget-view+json": {
       "model_id": "287027f9895347ddb842b0b6ffa913db",
       "version_major": 2,
       "version_minor": 0
      },
      "text/plain": [
       "Output()"
      ]
     },
     "metadata": {},
     "output_type": "display_data"
    }
   ],
   "source": [
    "import time\n",
    "from rich.progress import track\n",
    "\n",
    "for i in track(range(20), description=\"For example:\"):\n",
    "    time.sleep(0.05)"
   ]
  },
  {
   "cell_type": "markdown",
   "id": "ec773db1",
   "metadata": {},
   "source": [
    "- Terminal:\n",
    "    - ```uv run --with rich ipywidgets example.py```\n",
    "    - ```uv run --with 'rich>12,<13' example.py``` (also add constraints)\n"
   ]
  },
  {
   "cell_type": "markdown",
   "id": "b84d8ea4",
   "metadata": {},
   "source": []
  },
  {
   "cell_type": "markdown",
   "id": "51439638",
   "metadata": {},
   "source": []
  }
 ],
 "metadata": {
  "kernelspec": {
   "display_name": "Python 3",
   "language": "python",
   "name": "python3"
  },
  "language_info": {
   "codemirror_mode": {
    "name": "ipython",
    "version": 3
   },
   "file_extension": ".py",
   "mimetype": "text/x-python",
   "name": "python",
   "nbconvert_exporter": "python",
   "pygments_lexer": "ipython3",
   "version": "3.13.7"
  }
 },
 "nbformat": 4,
 "nbformat_minor": 5
}
