{
 "cells": [
  {
   "cell_type": "markdown",
   "id": "baa42eba",
   "metadata": {},
   "source": [
    "### Using different versions of python to execute the script\n",
    "\n",
    "```uv run example.py``` (default version)\n",
    "\n",
    "```uv run --python 3.10 example.py```"
   ]
  },
  {
   "cell_type": "code",
   "execution_count": 1,
   "id": "d4ccd967",
   "metadata": {},
   "outputs": [
    {
     "name": "stdout",
     "output_type": "stream",
     "text": [
      "3.13.7\n"
     ]
    }
   ],
   "source": [
    "# example.py\n",
    "\n",
    "import sys\n",
    "\n",
    "print(\".\".join(map(str, sys.version_info[:3])))"
   ]
  }
 ],
 "metadata": {
  "kernelspec": {
   "display_name": "Python 3",
   "language": "python",
   "name": "python3"
  },
  "language_info": {
   "codemirror_mode": {
    "name": "ipython",
    "version": 3
   },
   "file_extension": ".py",
   "mimetype": "text/x-python",
   "name": "python",
   "nbconvert_exporter": "python",
   "pygments_lexer": "ipython3",
   "version": "3.13.7"
  }
 },
 "nbformat": 4,
 "nbformat_minor": 5
}
