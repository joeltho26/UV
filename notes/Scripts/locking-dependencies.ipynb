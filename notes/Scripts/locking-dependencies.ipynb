{
 "cells": [
  {
   "cell_type": "markdown",
   "id": "6ea6bc83",
   "metadata": {},
   "source": [
    "### Locking dependencies:\n",
    "-  will create a .lock file adjacent to the script (e.g., example.py.lock)\n",
    "\n",
    "    ```uv lock --script example.py```\n",
    "\n",
    "- to limit uv to only considering distributions released before a specific date\n",
    "\n",
    "    ```[tool.uv]```\n",
    "    \n",
    "    ```exclude-newer = \"...\"```"
   ]
  },
  {
   "cell_type": "code",
   "execution_count": null,
   "id": "5c70f1d8",
   "metadata": {},
   "outputs": [],
   "source": [
    "# /// script\n",
    "# dependencies = [\n",
    "#   \"requests\",\n",
    "# ]\n",
    "# [tool.uv]\n",
    "# exclude-newer = \"2023-10-16T00:00:00Z\"\n",
    "# ///\n",
    "\n",
    "import requests\n",
    "\n",
    "print(requests.__version__)"
   ]
  }
 ],
 "metadata": {
  "language_info": {
   "name": "python"
  }
 },
 "nbformat": 4,
 "nbformat_minor": 5
}
