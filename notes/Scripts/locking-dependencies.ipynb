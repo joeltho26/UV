{
 "cells": [
  {
   "cell_type": "markdown",
   "id": "6ea6bc83",
   "metadata": {},
   "source": [
    "### Locking dependencies:\n",
    "-  will create a .lock file adjacent to the script (e.g., example.py.lock)\n",
    "\n",
    "    ```uv lock --script example.py```\n",
    "    \n",
    "    - will create a ```.lock``` file\n",
    "    - ```uv run --script```, ```uv add --script```, ```uv export --script```, and ```uv tree --script``` will reuse the locked dependencies"
   ]
  },
  {
   "cell_type": "markdown",
   "id": "ededd9d2",
   "metadata": {},
   "source": []
  }
 ],
 "metadata": {
  "language_info": {
   "name": "python"
  }
 },
 "nbformat": 4,
 "nbformat_minor": 5
}
