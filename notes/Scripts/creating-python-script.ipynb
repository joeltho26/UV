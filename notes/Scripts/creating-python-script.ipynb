{
 "cells": [
  {
   "cell_type": "markdown",
   "id": "019847ff",
   "metadata": {},
   "source": [
    "### Create a python script:\n",
    "\n",
    "```uv init --script example.py --python 3.12```"
   ]
  },
  {
   "cell_type": "markdown",
   "id": "d024ec5e",
   "metadata": {},
   "source": [
    "1. Declaring script dependencies:\n",
    "\n",
    "    - this will result in adding the dependencies section as shown below inside the script\n",
    "\n",
    "    ```uv add --script example.py 'requests<3' 'rich'```\n",
    "\n",
    "\n",
    "- example.py\n"
   ]
  },
  {
   "cell_type": "code",
   "execution_count": null,
   "id": "acd24b53",
   "metadata": {},
   "outputs": [],
   "source": [
    "# /// script\n",
    "# dependencies = [\n",
    "#   \"requests<3\",\n",
    "#   \"rich\",\n",
    "# ]\n",
    "# ///\n",
    "\n",
    "import requests\n",
    "from rich.pretty import pprint\n",
    "\n",
    "resp = requests.get(\"https://peps.python.org/api/peps.json\")\n",
    "data = resp.json()\n",
    "pprint([(k, v[\"title\"]) for k, v in data.items()][:10])"
   ]
  },
  {
   "cell_type": "markdown",
   "id": "f2675cad",
   "metadata": {},
   "source": [
    "- now when we run the above script file as shown below,\n",
    "\n",
    "    ```uv run example.py```\n",
    "\n",
    "    - uv will automatically create an environment with the dependencies necessary to run the script\n",
    "\n",
    "- we can also add python version requirements by modifying the script files as shown below:\n",
    "    - ```requires-python = \">=3.12\"```"
   ]
  },
  {
   "cell_type": "code",
   "execution_count": null,
   "id": "1aee4515",
   "metadata": {},
   "outputs": [],
   "source": [
    "# /// script\n",
    "# requires-python = \">=3.12\"\n",
    "# dependencies = [\n",
    "#   \"requests<3\",\n",
    "#   \"rich\",\n",
    "# ]\n",
    "# ///\n",
    "\n",
    "import requests\n",
    "from rich.pretty import pprint\n",
    "\n",
    "resp = requests.get(\"https://peps.python.org/api/peps.json\")\n",
    "data = resp.json()\n",
    "pprint([(k, v[\"title\"]) for k, v in data.items()][:10])"
   ]
  },
  {
   "cell_type": "markdown",
   "id": "bca6c9fa",
   "metadata": {},
   "source": [
    "Note:\n",
    "- using inline script metadata, even if ```uv run``` is used in a project, the project's dependencies will be ignored. The ```--no-project``` flag is not required"
   ]
  },
  {
   "cell_type": "markdown",
   "id": "cf7d0510",
   "metadata": {},
   "source": []
  }
 ],
 "metadata": {
  "kernelspec": {
   "display_name": "Python 3",
   "language": "python",
   "name": "python3"
  },
  "language_info": {
   "codemirror_mode": {
    "name": "ipython",
    "version": 3
   },
   "file_extension": ".py",
   "mimetype": "text/x-python",
   "name": "python",
   "nbconvert_exporter": "python",
   "pygments_lexer": "ipython3",
   "version": "3.13.7"
  }
 },
 "nbformat": 4,
 "nbformat_minor": 5
}
