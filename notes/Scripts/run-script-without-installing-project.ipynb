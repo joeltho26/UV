{
 "cells": [
  {
   "cell_type": "markdown",
   "id": "e6bfdae6",
   "metadata": {},
   "source": [
    "### Run a script without installing a project:\n",
    "\n",
    "```uv run --no-project example.py```\n",
    "\n",
    "Note:\n",
    "-  use ```uv run``` in a project, i.e., a directory with a pyproject.toml, it will install the current project before running the script\n",
    "- this can be ignored when there is a script inline metadata avaialble then we can use ```uv run``` simple and not requiring ```--no-project```"
   ]
  },
  {
   "cell_type": "markdown",
   "id": "3110ae0a",
   "metadata": {},
   "source": []
  }
 ],
 "metadata": {
  "language_info": {
   "name": "python"
  }
 },
 "nbformat": 4,
 "nbformat_minor": 5
}
