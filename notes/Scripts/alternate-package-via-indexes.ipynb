{
 "cells": [
  {
   "cell_type": "markdown",
   "id": "932f6463",
   "metadata": {},
   "source": [
    "### Using alternative package indexes:\n",
    "\n",
    "```uv add --index \"https://example.com/simple\" --script example.py 'requests<3' 'rich'```"
   ]
  },
  {
   "cell_type": "code",
   "execution_count": 1,
   "id": "740239ea",
   "metadata": {},
   "outputs": [
    {
     "name": "stdout",
     "output_type": "stream",
     "text": [
      "<Response [200 OK]>\n"
     ]
    }
   ],
   "source": [
    "#!/usr/bin/env -S uv run --script\n",
    "#\n",
    "# /// script\n",
    "# requires-python = \">=3.12\"\n",
    "# dependencies = [\n",
    "#   \"requests<3\",\n",
    "#   \"rich\",\n",
    "# ]\n",
    "#\n",
    "# [[tool.uv.index]]\n",
    "# url = \"https://example.com/simple\"\n",
    "# ///\n",
    "\n",
    "import httpx\n",
    "\n",
    "print(httpx.get(\"https://example.com\"))"
   ]
  }
 ],
 "metadata": {
  "kernelspec": {
   "display_name": "Python 3",
   "language": "python",
   "name": "python3"
  },
  "language_info": {
   "codemirror_mode": {
    "name": "ipython",
    "version": 3
   },
   "file_extension": ".py",
   "mimetype": "text/x-python",
   "name": "python",
   "nbconvert_exporter": "python",
   "pygments_lexer": "ipython3",
   "version": "3.13.7"
  }
 },
 "nbformat": 4,
 "nbformat_minor": 5
}
