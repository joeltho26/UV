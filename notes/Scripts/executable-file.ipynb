{
 "cells": [
  {
   "cell_type": "markdown",
   "id": "00acd977",
   "metadata": {},
   "source": [
    "### Shebang to create an executable file in UV:\n",
    "\n",
    "- create a file \"greet\" as shown below,"
   ]
  },
  {
   "cell_type": "code",
   "execution_count": 1,
   "id": "d925f537",
   "metadata": {},
   "outputs": [
    {
     "name": "stdout",
     "output_type": "stream",
     "text": [
      "Hello, world!\n"
     ]
    }
   ],
   "source": [
    "#!/usr/bin/env -S uv run --script\n",
    "\n",
    "print(\"Hello, world!\")"
   ]
  },
  {
   "cell_type": "markdown",
   "id": "ad110a29",
   "metadata": {},
   "source": [
    "- now, we can execute the file as below,\n",
    "\n",
    "    ```./greet```\n",
    "\n",
    "- Output:\n",
    "\n",
    "    Hello Word!"
   ]
  },
  {
   "cell_type": "markdown",
   "id": "1c9b7167",
   "metadata": {},
   "source": [
    "Declaration of dependencies and python version requirements:"
   ]
  },
  {
   "cell_type": "code",
   "execution_count": null,
   "id": "077d2218",
   "metadata": {},
   "outputs": [],
   "source": [
    "#!/usr/bin/env -S uv run --script\n",
    "#\n",
    "# /// script\n",
    "# requires-python = \">=3.12\"\n",
    "# dependencies = [\"httpx\"]\n",
    "# ///\n",
    "\n",
    "import httpx\n",
    "\n",
    "print(httpx.get(\"https://example.com\"))"
   ]
  }
 ],
 "metadata": {
  "kernelspec": {
   "display_name": "Python 3",
   "language": "python",
   "name": "python3"
  },
  "language_info": {
   "codemirror_mode": {
    "name": "ipython",
    "version": 3
   },
   "file_extension": ".py",
   "mimetype": "text/x-python",
   "name": "python",
   "nbconvert_exporter": "python",
   "pygments_lexer": "ipython3",
   "version": "3.13.7"
  }
 },
 "nbformat": 4,
 "nbformat_minor": 5
}
