{
 "cells": [
  {
   "cell_type": "markdown",
   "id": "b86310dc",
   "metadata": {},
   "source": [
    "### Create credential for a service:\n",
    "\n",
    "```uv auth login example.com```\n",
    "\n",
    "credentials can also be provided using the \n",
    "- ```--username```\n",
    "- ```--password``` \n",
    "- ```--token``` option for services which use a ```__token__``` or arbitrary username\n",
    "\n",
    "Authentication is supported for 4 major options:\n",
    "- HTTP credential\n",
    "- Git credential\n",
    "- TLS credential\n",
    "- Third party credential\n",
    "    - Hugging Face\n",
    "        - eg: \n",
    "        \n",
    "        ```HF_TOKEN=hf_... uv run https://huggingface.co/datasets/<user>/<name>/resolve/<branch>/main.py```"
   ]
  },
  {
   "cell_type": "markdown",
   "id": "9ca61f2d",
   "metadata": {},
   "source": []
  }
 ],
 "metadata": {
  "language_info": {
   "name": "python"
  }
 },
 "nbformat": 4,
 "nbformat_minor": 5
}
