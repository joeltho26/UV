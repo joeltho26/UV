{
 "cells": [
  {
   "cell_type": "markdown",
   "id": "0bd6bfd2",
   "metadata": {},
   "source": [
    "### Showing credentials:\n",
    "\n",
    "```uv auth token example.com```\n",
    "\n",
    "If a username was used to log in, it will need to be provided as well,\n",
    "\n",
    "```uv auth token --username foo example.com```"
   ]
  },
  {
   "cell_type": "markdown",
   "id": "de77cce8",
   "metadata": {},
   "source": []
  }
 ],
 "metadata": {
  "language_info": {
   "name": "python"
  }
 },
 "nbformat": 4,
 "nbformat_minor": 5
}
