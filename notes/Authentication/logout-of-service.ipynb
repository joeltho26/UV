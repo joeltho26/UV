{
 "cells": [
  {
   "cell_type": "markdown",
   "id": "7517e142",
   "metadata": {},
   "source": [
    "### Logging out of service:\n",
    "\n",
    "```uv auth logout example.com```"
   ]
  },
  {
   "cell_type": "markdown",
   "id": "4f4dcb74",
   "metadata": {},
   "source": []
  }
 ],
 "metadata": {
  "language_info": {
   "name": "python"
  }
 },
 "nbformat": 4,
 "nbformat_minor": 5
}
