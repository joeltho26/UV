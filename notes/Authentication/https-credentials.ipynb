{
 "cells": [
  {
   "cell_type": "markdown",
   "id": "e233975b",
   "metadata": {},
   "source": [
    "### HTTP credentials:\n",
    "- uv supports credentials over HTTP when querying package registries\n",
    "\n",
    "Authentication can come from the following sources, in order of precedence:\n",
    "- The URL, e.g., https://<user>:<password>@<hostname>/...\n",
    "- A netrc configuration file\n",
    "- The uv credentials store\n",
    "- A keyring provider (off by default)"
   ]
  },
  {
   "cell_type": "markdown",
   "id": "5d4bdd1a",
   "metadata": {},
   "source": []
  }
 ],
 "metadata": {
  "language_info": {
   "name": "python"
  }
 },
 "nbformat": 4,
 "nbformat_minor": 5
}
