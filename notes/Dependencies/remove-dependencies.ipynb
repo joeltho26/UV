{
 "cells": [
  {
   "cell_type": "markdown",
   "id": "bd3fdf9f",
   "metadata": {},
   "source": [
    "### To remove dependencies from an environment:\n",
    "\n",
    "```uv remove requests```"
   ]
  },
  {
   "cell_type": "markdown",
   "id": "cfcffb5d",
   "metadata": {},
   "source": []
  }
 ],
 "metadata": {
  "language_info": {
   "name": "python"
  }
 },
 "nbformat": 4,
 "nbformat_minor": 5
}
