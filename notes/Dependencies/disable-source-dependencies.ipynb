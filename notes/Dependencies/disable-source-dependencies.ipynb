{
 "cells": [
  {
   "cell_type": "markdown",
   "id": "7da460f5",
   "metadata": {},
   "source": [
    "### Disable Source Dependencies:\n",
    "\n",
    "```uv lock --no-sources```\n",
    "\n",
    "- to ignore the ```tool.uv.sources``` table"
   ]
  },
  {
   "cell_type": "markdown",
   "id": "e7c2004c",
   "metadata": {},
   "source": []
  }
 ],
 "metadata": {
  "language_info": {
   "name": "python"
  }
 },
 "nbformat": 4,
 "nbformat_minor": 5
}
