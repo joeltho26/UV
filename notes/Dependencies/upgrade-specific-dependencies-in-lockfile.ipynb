{
 "cells": [
  {
   "cell_type": "markdown",
   "id": "72c1e05b",
   "metadata": {},
   "source": [
    "### To upgrade specific dependencies in an environment and keep the rest of the dependencies intact :\n",
    "\n",
    "```uv lock —-upgrade-package requests```\n",
    "\n",
    "```uv add “httpx>0.1.0” -–upgrade-package httpx```\n"
   ]
  },
  {
   "cell_type": "markdown",
   "id": "cf361661",
   "metadata": {},
   "source": []
  }
 ],
 "metadata": {
  "language_info": {
   "name": "python"
  }
 },
 "nbformat": 4,
 "nbformat_minor": 5
}
