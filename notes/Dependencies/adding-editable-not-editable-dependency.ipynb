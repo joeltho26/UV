{
 "cells": [
  {
   "cell_type": "markdown",
   "id": "8938937d",
   "metadata": {},
   "source": [
    "### Editable Dependency & Non Editable Dependency:\n",
    "\n",
    "- Editable:\n",
    "    \n",
    "    ```uv add --editable ./path/foo```\n",
    "\n",
    "- Non-Editable:\n",
    "\n",
    "    ```uv add --no-editable ./path/foo```"
   ]
  },
  {
   "cell_type": "markdown",
   "id": "9206d98c",
   "metadata": {},
   "source": []
  }
 ],
 "metadata": {
  "language_info": {
   "name": "python"
  }
 },
 "nbformat": 4,
 "nbformat_minor": 5
}
