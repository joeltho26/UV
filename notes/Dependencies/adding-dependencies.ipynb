{
 "cells": [
  {
   "cell_type": "markdown",
   "id": "e51f1aeb",
   "metadata": {},
   "source": [
    "### Adding dependencies:\n",
    "\n",
    "```uv add requests```\n",
    "\n",
    "- will update both .toml and .lock files\n",
    "\n",
    "\n",
    "Specific version:\n",
    "\n",
    "```uv add 'requests==2.31.0'```\n",
    "\n"
   ]
  },
  {
   "cell_type": "markdown",
   "id": "fd52fdc9",
   "metadata": {},
   "source": []
  }
 ],
 "metadata": {
  "language_info": {
   "name": "python"
  }
 },
 "nbformat": 4,
 "nbformat_minor": 5
}
