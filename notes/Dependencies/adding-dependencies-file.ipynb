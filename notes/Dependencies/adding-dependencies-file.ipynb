{
 "cells": [
  {
   "cell_type": "markdown",
   "id": "bdfde638",
   "metadata": {},
   "source": [
    "### Install dependencies from requirements.txt file:\n",
    "\n",
    "```uv add -r requirements.txt```\n",
    "\n",
    "- install dependencies from requirements.txt file with constraints:\n",
    "\n",
    "```uv add -r requirements.txt -c constraints.txt```   "
   ]
  },
  {
   "cell_type": "markdown",
   "id": "e823c7eb",
   "metadata": {},
   "source": []
  }
 ],
 "metadata": {
  "language_info": {
   "name": "python"
  }
 },
 "nbformat": 4,
 "nbformat_minor": 5
}
