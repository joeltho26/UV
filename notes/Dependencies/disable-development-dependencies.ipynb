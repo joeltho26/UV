{
 "cells": [
  {
   "cell_type": "markdown",
   "id": "64276b9b",
   "metadata": {},
   "source": [
    "### Disable development dependencies:\n",
    "\n",
    "- exclusion of ```dev``` dependencies:\n",
    "    \n",
    "    ``` uv run --no-dev```\n",
    "\n",
    "    ``` uv sync --no-dev```\n",
    "\n",
    "- to disable all default groups:\n",
    "\n",
    "    ``` uv run --no-default-groups```\n",
    "\n",
    "    ``` uv sync --no-default-groups```\n",
    "\n",
    "- to exclude specific development dependency groups\n",
    "\n",
    "    ``` uv run --no-group```\n",
    "\n",
    "    ``` uv sync --no-group```\n",
    "\n",
    "    "
   ]
  }
 ],
 "metadata": {
  "language_info": {
   "name": "python"
  }
 },
 "nbformat": 4,
 "nbformat_minor": 5
}
