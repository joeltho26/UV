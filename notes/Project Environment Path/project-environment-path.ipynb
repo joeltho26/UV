{
 "cells": [
  {
   "cell_type": "markdown",
   "id": "93807c9d",
   "metadata": {},
   "source": [
    "### Project Environment Variable:\n",
    "\n",
    "```UV_PROJECT_ENVIRONMENT```\n",
    "\n",
    "- used to configure prpject's virtual environment path (.venv by default)\n",
    "\n",
    "Note:\n",
    "- relative path: will be resolved relative to the workspace root\n",
    "- absolute path: a child directory will not be created for the environment\n",
    "- if an environment is not present at the provided path, uv will create it"
   ]
  },
  {
   "cell_type": "markdown",
   "id": "07b7631b",
   "metadata": {},
   "source": [
    "running the below command, will remove extraneous packages from the environment by default\n",
    "\n",
    "```uv sync```"
   ]
  },
  {
   "cell_type": "markdown",
   "id": "33ee009a",
   "metadata": {},
   "source": [
    "To target the system environment, set ```UV_PROJECT_ENVIRONMENT``` to the prefix of python installation\n",
    "\n",
    "```python -c \"import sysconfig; print(sysconfig.get_config_var('prefix'))\"```\n",
    "\n",
    "To target this environment, you'd export ```UV_PROJECT_ENVIRONMENT=/usr/local```"
   ]
  },
  {
   "cell_type": "markdown",
   "id": "3986c4f1",
   "metadata": {},
   "source": [
    "Note:\n",
    "- if an absolute path is provided and the setting is used across multiple projects, the environment will be overwritten by invocations in each project\n",
    "- this setting is only recommended for use for a single project in CI or Docker images.\n",
    "- warning will be displayed if ```VIRTUAL_ENV``` is set to a different path than the project's environment\n",
    "- the ```--active``` flag can be used to opt-in to respecting ```VIRTUAL_ENV``` likewise, the ```--no-active``` flag can be used to silence the warning"
   ]
  },
  {
   "cell_type": "markdown",
   "id": "10c67e0f",
   "metadata": {},
   "source": []
  }
 ],
 "metadata": {
  "language_info": {
   "name": "python"
  }
 },
 "nbformat": 4,
 "nbformat_minor": 5
}
