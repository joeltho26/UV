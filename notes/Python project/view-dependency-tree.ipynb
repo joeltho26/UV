{
 "cells": [
  {
   "cell_type": "markdown",
   "id": "bf37b19f",
   "metadata": {},
   "source": [
    "### To view dependency tree for the project:\n",
    "\n",
    "```uv tree```"
   ]
  },
  {
   "cell_type": "markdown",
   "id": "0eca92a2",
   "metadata": {},
   "source": []
  }
 ],
 "metadata": {
  "language_info": {
   "name": "python"
  }
 },
 "nbformat": 4,
 "nbformat_minor": 5
}
