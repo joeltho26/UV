{
 "cells": [
  {
   "cell_type": "markdown",
   "id": "e7bf034f",
   "metadata": {},
   "source": [
    "### Complete project structure of a packaged application in python:"
   ]
  },
  {
   "cell_type": "code",
   "execution_count": 1,
   "id": "c8e1d574",
   "metadata": {},
   "outputs": [
    {
     "data": {
      "text/plain": [
       "'\\nproject-name/\\n├── setup.py (from setuptools)\\n├── README.md\\n├── LICENSE (MIT, Apache 2.0)\\n├── requirement.txt\\n├── pyproject.toml (modern configuration file alternate to or in addition to setup.py)\\n└── src/ or project-name/\\n    └── __init__.py\\n    └── main.py\\n    └── module1.py\\n└── tests/\\n    └── test_main.py\\n    └── test_module1.py\\n└── docs\\n└── .gitignore (files and directories should be ignored and not committed to the repository eg: .pyc, venv/, dist/, etc)\\n'"
      ]
     },
     "execution_count": 1,
     "metadata": {},
     "output_type": "execute_result"
    }
   ],
   "source": [
    "\"\"\"\n",
    "project-name/\n",
    "├── setup.py (from setuptools)\n",
    "├── README.md\n",
    "├── LICENSE (MIT, Apache 2.0)\n",
    "├── requirement.txt\n",
    "├── pyproject.toml (modern configuration file alternate to or in addition to setup.py)\n",
    "└── src/ or project-name/\n",
    "    └── __init__.py\n",
    "    └── main.py\n",
    "    └── module1.py\n",
    "└── tests/\n",
    "    └── test_main.py\n",
    "    └── test_module1.py\n",
    "└── docs\n",
    "└── .gitignore (files and directories should be ignored and not committed to the repository eg: .pyc, venv/, dist/, etc)\n",
    "\"\"\""
   ]
  },
  {
   "cell_type": "markdown",
   "id": "09c978fd",
   "metadata": {},
   "source": [
    "### Creating a command-line interface (CLI) in Python and publishing it to PyPI:\n",
    "\n",
    "Project Setup:\n",
    "- Create a project directory and a package directory within it.\n",
    "- Initialize a Python virtual environment to manage dependencies.\n",
    "- Create essential files: ```__init__.py``` (inside your package directory), ```setup.py``` (or ```pyproject.toml``` if using Poetry/Flit), ```README.md```, and ```LICENSE```.\n",
    "\n",
    "CLI Implementation:\n",
    "- Choose a CLI framework like ```Click```, ```Typer```, or ```Argparse``` to define commands, options, and arguments.\n",
    "- Write the Python code for your CLI, organizing it into functions or classes.\n",
    "- Define an entry point in your ```setup.py``` (or ```pyproject.toml```) that links a command-line name to a specific function in your code, making it executable."
   ]
  },
  {
   "cell_type": "code",
   "execution_count": null,
   "id": "6a17ad85",
   "metadata": {},
   "outputs": [],
   "source": [
    "# Example setup.py entry_points for a Click-based CLI\n",
    "setup(\n",
    "    # ... other arguments ...\n",
    "    entry_points={\n",
    "        'console_scripts': [\n",
    "            'mycli = mypackage.mymodule:cli_function',\n",
    "        ],\n",
    "    },\n",
    ")"
   ]
  },
  {
   "cell_type": "markdown",
   "id": "090e0ffe",
   "metadata": {},
   "source": [
    "Package Metadata:\n",
    "- Populate ```setup.py``` (or ```pyproject.toml```) with package metadata such as name, version, author, description, and dependencies.\n",
    "- Include a ```README.md``` for user documentation and a ```LICENSE``` file.\n",
    "\n",
    "Build the Package:\n",
    "- Use ```setuptools``` (with ```setup.py```) or ```Poetry/Flit``` to build source distributions (```.tar.gz```) and wheel distributions (```.whl```).\n",
    "- For ```setuptools```: ```python setup.py sdist bdist_wheel```\n",
    "- For Poetry: ```poetry build```\n",
    "\n",
    "PyPI Account and Credentials:\n",
    "- Create an account on PyPI and set up two-factor authentication.\n",
    "- Generate a PyPI API token for secure authentication when uploading packages. Alternatively, configure Trusted Publishers if using GitHub Actions for automated publishing.\n",
    "\n",
    "Publish to PyPI:\n",
    "- Install ```twine```: ```pip install twine```\n",
    "- Upload your built distributions using ```twine```: ```twine upload dist/*```\n",
    "- Provide your PyPI username (__token__) and API token when prompted.\n",
    "\n",
    "Testing and Installation:\n",
    "After publishing, install your package using pip install mycli to verify its functionality."
   ]
  },
  {
   "cell_type": "markdown",
   "id": "ebd7a98f",
   "metadata": {},
   "source": []
  }
 ],
 "metadata": {
  "kernelspec": {
   "display_name": "Python 3",
   "language": "python",
   "name": "python3"
  },
  "language_info": {
   "codemirror_mode": {
    "name": "ipython",
    "version": 3
   },
   "file_extension": ".py",
   "mimetype": "text/x-python",
   "name": "python",
   "nbconvert_exporter": "python",
   "pygments_lexer": "ipython3",
   "version": "3.13.7"
  }
 },
 "nbformat": 4,
 "nbformat_minor": 5
}
